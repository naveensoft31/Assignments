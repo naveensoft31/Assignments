{
 "cells": [
  {
   "cell_type": "code",
   "execution_count": 6,
   "metadata": {},
   "outputs": [
    {
     "name": "stdout",
     "output_type": "stream",
     "text": [
      "Enter Subject1_marks:90\n",
      "Enter Subject2_marks:93\n",
      "Enter Subject3_marks:89\n",
      "Enter Subject4_marks:78\n",
      "Enter Subject5_marks:91\n",
      "Enter Subject6_marks:94\n",
      "Student Marks\n",
      "=============\n",
      "Subject1: 90\n",
      "Subject2: 93\n",
      "Subject3: 89\n",
      "Subject4: 78\n",
      "Subject5: 91\n",
      "Subject6: 94\n",
      "=============\n",
      "Total Marks: 535\n",
      "Average Marks: 89.16666666666667\n"
     ]
    }
   ],
   "source": [
    "l=[]\n",
    "s1=int(input(\"Enter Subject1_marks:\"))\n",
    "s2=int(input(\"Enter Subject2_marks:\"))\n",
    "s3=int(input(\"Enter Subject3_marks:\"))\n",
    "s4=int(input(\"Enter Subject4_marks:\"))\n",
    "s5=int(input(\"Enter Subject5_marks:\"))\n",
    "s6=int(input(\"Enter Subject6_marks:\"))\n",
    "l.append([s1,s2,s3,s4,s5,s6])\n",
    "#print(l[0])\n",
    "t=sum(l[0])\n",
    "avg=t/len(l[0])\n",
    "print(\"Student Marks\"+\"\\n\"+\"=============\"+\"\\n\"+\"Subject1: \"+str(s1)+\"\\n\"+\"Subject2: \"+str(s2)+\"\\n\"+\"Subject3: \"+str(s3)+\"\\n\"+\"Subject4: \"+str(s4)+\"\\n\"+\"Subject5: \"+str(s5)+\"\\n\"+\"Subject6: \"+str(s6)+\"\\n\"+\"=============\"+\"\\n\"+\"Total Marks: \"+str(t)+\"\\n\"+\"Average Marks: \"+str(avg))"
   ]
  },
  {
   "cell_type": "code",
   "execution_count": null,
   "metadata": {},
   "outputs": [],
   "source": []
  }
 ],
 "metadata": {
  "kernelspec": {
   "display_name": "Python 3",
   "language": "python",
   "name": "python3"
  },
  "language_info": {
   "codemirror_mode": {
    "name": "ipython",
    "version": 3
   },
   "file_extension": ".py",
   "mimetype": "text/x-python",
   "name": "python",
   "nbconvert_exporter": "python",
   "pygments_lexer": "ipython3",
   "version": "3.8.5"
  }
 },
 "nbformat": 4,
 "nbformat_minor": 4
}
