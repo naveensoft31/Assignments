{
 "cells": [
  {
   "cell_type": "code",
   "execution_count": 9,
   "metadata": {},
   "outputs": [
    {
     "name": "stdout",
     "output_type": "stream",
     "text": [
      "Number of unit consumed: 400\n",
      "Power Consumption App\n",
      "=================\n",
      "Units:400\n",
      "Bill Amount:4950.00: \n"
     ]
    }
   ],
   "source": [
    "def Power_consumption(units):\n",
    "    units=int(input(\"Number of unit consumed: \"))\n",
    "    if(units>1 and units<=50):\n",
    "        payamount=units*3\n",
    "    elif(units>51 and units<=100):\n",
    "        payamount=(50*3)+(units-50)*6\n",
    "    elif(units>101 and units<=150):\n",
    "        payamount=(50*3)+(100-50)*6+(units-100)*9\n",
    "    elif(units>151 and units<=200):\n",
    "        payamount=(50*3)+(150-50)*9+(units-150)*12\n",
    "    elif(units>201):\n",
    "        payamount=(50*3)+(200-50)*12+(units-200)*15\n",
    "    else:\n",
    "        payamount=0;\n",
    "\n",
    "    print(\"Power Consumption App\"+\"\\n\"+\"=================\"+\"\\n\"+\"Units:\"+str(units)+\"\\n\"+\"Bill Amount:%.2f: \" %payamount)\n",
    "Power_consumption(units)"
   ]
  },
  {
   "cell_type": "code",
   "execution_count": null,
   "metadata": {},
   "outputs": [],
   "source": []
  }
 ],
 "metadata": {
  "kernelspec": {
   "display_name": "Python 3",
   "language": "python",
   "name": "python3"
  },
  "language_info": {
   "codemirror_mode": {
    "name": "ipython",
    "version": 3
   },
   "file_extension": ".py",
   "mimetype": "text/x-python",
   "name": "python",
   "nbconvert_exporter": "python",
   "pygments_lexer": "ipython3",
   "version": "3.8.5"
  }
 },
 "nbformat": 4,
 "nbformat_minor": 4
}
