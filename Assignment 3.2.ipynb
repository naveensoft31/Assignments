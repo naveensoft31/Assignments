{
 "cells": [
  {
   "cell_type": "code",
   "execution_count": 14,
   "metadata": {},
   "outputs": [
    {
     "name": "stdout",
     "output_type": "stream",
     "text": [
      "enter a word:naveen\n",
      "Vowels: aee\n",
      "Vowels: ['a', 'e', 'e']\n"
     ]
    }
   ],
   "source": [
    "s=input(\"enter a word:\")\n",
    "s1=list(s)\n",
    "v=[\"a\",\"i\",\"e\",\"o\",\"u\"]\n",
    "f=\"\"\n",
    "l=[]\n",
    "for i in s1:\n",
    "    if i in v:\n",
    "        f+=i\n",
    "        l.append(i)\n",
    "print(\"Vowels:\",f)\n",
    "print(\"Vowels:\",l)"
   ]
  },
  {
   "cell_type": "code",
   "execution_count": null,
   "metadata": {},
   "outputs": [],
   "source": [
    "i"
   ]
  },
  {
   "cell_type": "code",
   "execution_count": null,
   "metadata": {},
   "outputs": [],
   "source": []
  }
 ],
 "metadata": {
  "kernelspec": {
   "display_name": "Python 3",
   "language": "python",
   "name": "python3"
  },
  "language_info": {
   "codemirror_mode": {
    "name": "ipython",
    "version": 3
   },
   "file_extension": ".py",
   "mimetype": "text/x-python",
   "name": "python",
   "nbconvert_exporter": "python",
   "pygments_lexer": "ipython3",
   "version": "3.8.5"
  }
 },
 "nbformat": 4,
 "nbformat_minor": 4
}
