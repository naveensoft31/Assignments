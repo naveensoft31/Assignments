{
 "cells": [
  {
   "cell_type": "code",
   "execution_count": 17,
   "metadata": {},
   "outputs": [
    {
     "name": "stdout",
     "output_type": "stream",
     "text": [
      "Lines: 1\n",
      "Words: 5\n",
      "Characters: 19\n"
     ]
    }
   ],
   "source": [
    "with open('file1.text','r') as f:\n",
    "    r=f.readlines()\n",
    "    s=r[0].strip(\"\\n\")\n",
    "    s1=s.split()\n",
    "    s2=list(s)\n",
    "    count=0\n",
    "    for i in s2:\n",
    "        if i.isalpha()==True:\n",
    "            count+=1\n",
    "    print(\"Lines:\",len(r))\n",
    "    print(\"Words:\",len(s1))\n",
    "    print(\"Characters:\",count)"
   ]
  },
  {
   "cell_type": "code",
   "execution_count": null,
   "metadata": {},
   "outputs": [],
   "source": []
  }
 ],
 "metadata": {
  "kernelspec": {
   "display_name": "Python 3",
   "language": "python",
   "name": "python3"
  },
  "language_info": {
   "codemirror_mode": {
    "name": "ipython",
    "version": 3
   },
   "file_extension": ".py",
   "mimetype": "text/x-python",
   "name": "python",
   "nbconvert_exporter": "python",
   "pygments_lexer": "ipython3",
   "version": "3.8.5"
  }
 },
 "nbformat": 4,
 "nbformat_minor": 4
}
