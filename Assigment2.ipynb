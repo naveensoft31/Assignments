{
 "cells": [
  {
   "cell_type": "code",
   "execution_count": 12,
   "metadata": {},
   "outputs": [],
   "source": [
    "def Mycalculater(x,y):\n",
    "    option=\"\"\n",
    "    while option!=5:        #this condition refers program run until option is not equal to 5\n",
    "        x=int(input(\"Enter first Number:\"))\n",
    "        y=int(input(\"Enter Second Number:\"))\n",
    "        print()\n",
    "        print(\"MyCalculator\"+\"\\n\"+\"==================\"+\"\\n\"+\"1.Add\"+\"\\n\"+\"2.Sub\"+\"\\n\"+\"3.Mul\"+\"\\n\"+\"4.Div\"+\"\\n\"+\"5.Exit\")\n",
    "        option=int(input(\"Choose the Option:\"))\n",
    "        if option==1:\n",
    "            print(\"Result:\",x+y)\n",
    "        elif option==2:\n",
    "            print(\"Result:\",x-y)\n",
    "        elif option==3:\n",
    "            print(\"Result:\",x*y)\n",
    "        elif option==4:\n",
    "            print(\"Result:\",x/y)\n",
    "        elif option==5:\n",
    "            print(\"Exit\")\n",
    "Mycalculater(x,y)"
   ]
  },
  {
   "cell_type": "code",
   "execution_count": null,
   "metadata": {},
   "outputs": [],
   "source": []
  },
  {
   "cell_type": "code",
   "execution_count": null,
   "metadata": {},
   "outputs": [],
   "source": []
  }
 ],
 "metadata": {
  "kernelspec": {
   "display_name": "Python 3",
   "language": "python",
   "name": "python3"
  },
  "language_info": {
   "codemirror_mode": {
    "name": "ipython",
    "version": 3
   },
   "file_extension": ".py",
   "mimetype": "text/x-python",
   "name": "python",
   "nbconvert_exporter": "python",
   "pygments_lexer": "ipython3",
   "version": "3.8.5"
  }
 },
 "nbformat": 4,
 "nbformat_minor": 4
}
