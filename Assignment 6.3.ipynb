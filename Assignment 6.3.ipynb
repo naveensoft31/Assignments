{
 "cells": [
  {
   "cell_type": "code",
   "execution_count": 154,
   "metadata": {},
   "outputs": [
    {
     "name": "stdout",
     "output_type": "stream",
     "text": [
      "['102', 'Smith', '']\n"
     ]
    }
   ],
   "source": [
    "import csv\n",
    "file = open('emp.csv')\n",
    "csv_data = csv.reader(file)\n",
    "Header=True\n",
    "for row in csv_data:\n",
    "    if Header:\n",
    "        Header = False\n",
    "        continue\n",
    "    if row[2]==\"\" :\n",
    "        print(row)\n",
    "   "
   ]
  },
  {
   "cell_type": "code",
   "execution_count": 210,
   "metadata": {},
   "outputs": [
    {
     "data": {
      "text/html": [
       "<div>\n",
       "<style scoped>\n",
       "    .dataframe tbody tr th:only-of-type {\n",
       "        vertical-align: middle;\n",
       "    }\n",
       "\n",
       "    .dataframe tbody tr th {\n",
       "        vertical-align: top;\n",
       "    }\n",
       "\n",
       "    .dataframe thead th {\n",
       "        text-align: right;\n",
       "    }\n",
       "</style>\n",
       "<table border=\"1\" class=\"dataframe\">\n",
       "  <thead>\n",
       "    <tr style=\"text-align: right;\">\n",
       "      <th></th>\n",
       "      <th>id</th>\n",
       "      <th>name</th>\n",
       "      <th>sal</th>\n",
       "    </tr>\n",
       "  </thead>\n",
       "  <tbody>\n",
       "    <tr>\n",
       "      <th>0</th>\n",
       "      <td>101.0</td>\n",
       "      <td>Anna</td>\n",
       "      <td>5500.0</td>\n",
       "    </tr>\n",
       "    <tr>\n",
       "      <th>1</th>\n",
       "      <td>NaN</td>\n",
       "      <td>Jones</td>\n",
       "      <td>4500.0</td>\n",
       "    </tr>\n",
       "    <tr>\n",
       "      <th>3</th>\n",
       "      <td>103.0</td>\n",
       "      <td>NaN</td>\n",
       "      <td>6500.0</td>\n",
       "    </tr>\n",
       "  </tbody>\n",
       "</table>\n",
       "</div>"
      ],
      "text/plain": [
       "      id   name     sal\n",
       "0  101.0   Anna  5500.0\n",
       "1    NaN  Jones  4500.0\n",
       "3  103.0    NaN  6500.0"
      ]
     },
     "execution_count": 210,
     "metadata": {},
     "output_type": "execute_result"
    }
   ],
   "source": [
    "import pandas as pd\n",
    "df=pd.read_csv(\"emp.csv\")\n",
    "df[df['sal']>3500]"
   ]
  },
  {
   "cell_type": "code",
   "execution_count": 91,
   "metadata": {},
   "outputs": [
    {
     "name": "stdout",
     "output_type": "stream",
     "text": [
      "['101', 'Anna', '5500']\n",
      "['104', 'Alice', '3500']\n"
     ]
    }
   ],
   "source": [
    "file = open('emp.csv')\n",
    "csv_data = csv.reader(file)\n",
    "Header=True\n",
    "for row in csv_data:\n",
    "    if Header:\n",
    "        Header = False\n",
    "        continue \n",
    "    elif   row[1].startswith(\"A\"):\n",
    "        print(row)"
   ]
  },
  {
   "cell_type": "code",
   "execution_count": 88,
   "metadata": {},
   "outputs": [
    {
     "name": "stdout",
     "output_type": "stream",
     "text": [
      "['', 'Jones', '4500']\n",
      "['102', 'Smith', '']\n",
      "['103', '', '6500']\n"
     ]
    }
   ],
   "source": [
    "file = open('emp.csv')\n",
    "csv_data = csv.reader(file)\n",
    "Header=True\n",
    "for row in csv_data:\n",
    "    if Header:\n",
    "        Header = False\n",
    "        continue \n",
    "    if  row[0]==\"\" or row[1]==\"\" or row[2]==\"\":\n",
    "        print(row)"
   ]
  },
  {
   "cell_type": "code",
   "execution_count": 94,
   "metadata": {},
   "outputs": [
    {
     "name": "stdout",
     "output_type": "stream",
     "text": [
      "['101', 'Anna', '5500']\n",
      "['104', 'Alice', '3500']\n"
     ]
    }
   ],
   "source": [
    "file = open('emp.csv')\n",
    "csv_data = csv.reader(file)\n",
    "Header=True\n",
    "for row in csv_data:\n",
    "    if Header:\n",
    "        Header = False\n",
    "        continue \n",
    "    if  row[0]!=\"\" and row[1]!=\"\" and row[2]!=\"\":\n",
    "        print(row)"
   ]
  },
  {
   "cell_type": "code",
   "execution_count": null,
   "metadata": {},
   "outputs": [],
   "source": []
  }
 ],
 "metadata": {
  "kernelspec": {
   "display_name": "Python 3",
   "language": "python",
   "name": "python3"
  },
  "language_info": {
   "codemirror_mode": {
    "name": "ipython",
    "version": 3
   },
   "file_extension": ".py",
   "mimetype": "text/x-python",
   "name": "python",
   "nbconvert_exporter": "python",
   "pygments_lexer": "ipython3",
   "version": "3.8.5"
  }
 },
 "nbformat": 4,
 "nbformat_minor": 4
}
