{
 "cells": [
  {
   "cell_type": "code",
   "execution_count": 2,
   "metadata": {},
   "outputs": [
    {
     "name": "stdout",
     "output_type": "stream",
     "text": [
      "My To Do App\n",
      "==========\n",
      "1.Add task\n",
      "2.View All Tasks\n",
      "0.Exit\n",
      "Enter your Choice:1\n",
      "Enter Task Name:work\n",
      "Enter task date:12/3/2020\n",
      "Task Added\n",
      "Enter your Choice:2\n",
      "work : 12/3/2020\n",
      "Enter your Choice:0\n",
      "Exit\n",
      "Invaid Choice\n"
     ]
    }
   ],
   "source": [
    "menu={}\n",
    "print(\"My To Do App\"+\"\\n\"+\"==========\"+\"\\n\"+\"1.Add task\"+\"\\n\"+\"2.View All Tasks\"+\"\\n\"+\"0.Exit\")\n",
    "choice=\"\"\n",
    "while choice!=0:\n",
    "    choice=int(input(\"Enter your Choice:\"))\n",
    "    if choice==1:\n",
    "        l=[]\n",
    "        #n=int(input(\"Enter Task no:\"))\n",
    "        a=input(\"Enter Task Name:\")\n",
    "        b=input(\"Enter task date:\")\n",
    "        menu[a]=b\n",
    "        print(\"Task Added\")\n",
    "    elif choice==2:\n",
    "        for item in menu:\n",
    "            print(item,\":\",menu[item])\n",
    "    elif choice==0:\n",
    "        print(\"Exit\")\n",
    "    \n",
    "else:\n",
    "    print(\"Invaid Choice\")"
   ]
  },
  {
   "cell_type": "code",
   "execution_count": 16,
   "metadata": {},
   "outputs": [
    {
     "data": {
      "text/plain": [
       "datetime.date"
      ]
     },
     "execution_count": 16,
     "metadata": {},
     "output_type": "execute_result"
    }
   ],
   "source": [
    "type(d)"
   ]
  },
  {
   "cell_type": "code",
   "execution_count": null,
   "metadata": {},
   "outputs": [],
   "source": []
  }
 ],
 "metadata": {
  "kernelspec": {
   "display_name": "Python 3",
   "language": "python",
   "name": "python3"
  },
  "language_info": {
   "codemirror_mode": {
    "name": "ipython",
    "version": 3
   },
   "file_extension": ".py",
   "mimetype": "text/x-python",
   "name": "python",
   "nbconvert_exporter": "python",
   "pygments_lexer": "ipython3",
   "version": "3.8.5"
  }
 },
 "nbformat": 4,
 "nbformat_minor": 4
}
