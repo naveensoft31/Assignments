{
 "cells": [
  {
   "cell_type": "code",
   "execution_count": 50,
   "metadata": {},
   "outputs": [
    {
     "name": "stdout",
     "output_type": "stream",
     "text": [
      "Enter roll_no:45\n",
      "Enter studentname:kishore\n",
      "Enter subject1 marks:87\n",
      "Enter subject2 marks:56\n",
      "Enter subject3 marks:56\n",
      "Enter subject4 marks:78\n",
      "Enter subject5 marks:34\n",
      "Enter subject6 marks:56\n",
      "Invalid Marks:Please enter marks above or equal to 40 \n"
     ]
    }
   ],
   "source": [
    "def report():\n",
    "    rollno=int(input(\"Enter roll_no:\"))\n",
    "    name=input(\"Enter studentname:\")\n",
    "    subject1=int(input(\"Enter subject1 marks:\"))\n",
    "    subject2=int(input(\"Enter subject2 marks:\"))\n",
    "    subject3=int(input(\"Enter subject3 marks:\"))\n",
    "    subject4=int(input(\"Enter subject4 marks:\"))\n",
    "    subject5=int(input(\"Enter subject5 marks:\"))\n",
    "    subject6=int(input(\"Enter subject6 marks:\"))\n",
    "    #condition for check all subjects greater than or equal to 40\n",
    "    if subject1>=40 and subject1>=40 and subject2>=40 and subject3>=40 and subject4>=40 and subject5>=40 and subject6>=40:\n",
    "        total_marks=subject1+subject2+subject3+subject4+subject4+subject6     #to get the total marks of student\n",
    "        average_marks=total_marks/6                                           #to get the Average  marks of student\n",
    "        print()\n",
    "        grade=\"\"\n",
    "        if (average_marks>80) and (average_marks<100):                       #conditions for getting Grades based on avg marks\n",
    "            grade+=\"A\"\n",
    "        elif average_marks>60 and average_marks<79:\n",
    "            grade+=\"B\"\n",
    "        elif average_marks>50 and average_marks<59:\n",
    "            grade+=\"C\"\n",
    "        elif average_marks>40 and average_marks<49:\n",
    "            grade+=\"D\"\n",
    "        elif average_marks<40:\n",
    "            grade+=\"Promoted\"\n",
    "        print(\"Student Progress Report App\")\n",
    "        print(\"===========================\")\n",
    "        print(\"Roll No:\"+str(rollno)+\"\\n\"+\"Student Name:\"+name+\"\\n\"+\"Total Marks:\"+str(total_marks)+\"\\n\"+\"Grade:\"+grade)\n",
    "    else:\n",
    "            print(\"Invalid Marks:Please enter marks above or equal to 40 \")\n",
    "report()\n",
    "        "
   ]
  },
  {
   "cell_type": "code",
   "execution_count": 38,
   "metadata": {},
   "outputs": [
    {
     "name": "stdout",
     "output_type": "stream",
     "text": [
      "Enter subject1 marks:56\n",
      "Enter subject2 marks:34\n",
      "90\n",
      "invalid\n"
     ]
    }
   ],
   "source": [
    "subject1=int(input(\"Enter subject1 marks:\"))\n",
    "subject2=int(input(\"Enter subject2 marks:\"))\n",
    "l=[subject1,subject2]\n",
    "for i in range(0,len(l)):\n",
    "    if l[i]>=40:\n",
    "        print((sum(l)))\n",
    "    else:\n",
    "        print(\"invalid\")\n",
    "#print(sum(l))"
   ]
  },
  {
   "cell_type": "code",
   "execution_count": null,
   "metadata": {},
   "outputs": [],
   "source": []
  }
 ],
 "metadata": {
  "kernelspec": {
   "display_name": "Python 3",
   "language": "python",
   "name": "python3"
  },
  "language_info": {
   "codemirror_mode": {
    "name": "ipython",
    "version": 3
   },
   "file_extension": ".py",
   "mimetype": "text/x-python",
   "name": "python",
   "nbconvert_exporter": "python",
   "pygments_lexer": "ipython3",
   "version": "3.8.5"
  }
 },
 "nbformat": 4,
 "nbformat_minor": 4
}
