{
 "cells": [
  {
   "cell_type": "code",
   "execution_count": 7,
   "metadata": {},
   "outputs": [
    {
     "name": "stdout",
     "output_type": "stream",
     "text": [
      "My To Do App\n",
      "==========\n",
      "1.Add task\n",
      "2.View All Tasks\n",
      "3.Exit\n",
      "Enter your Choice:1\n",
      "Enter Task no:1\n",
      "Enter Task Name:reading\n",
      "Task Added\n",
      "Enter your Choice:1\n",
      "Enter Task no:2\n",
      "Enter Task Name:playing\n",
      "Task Added\n",
      "Enter your Choice:1\n",
      "Enter Task no:3\n",
      "Enter Task Name:cooking\n",
      "Task Added\n",
      "Enter your Choice:2\n",
      "1 : reading\n",
      "2 : playing\n",
      "3 : cooking\n",
      "Enter your Choice:3\n",
      "Exit\n",
      "Invaid Choice\n"
     ]
    }
   ],
   "source": [
    "menu={}\n",
    "print(\"My To Do App\"+\"\\n\"+\"==========\"+\"\\n\"+\"1.Add task\"+\"\\n\"+\"2.View All Tasks\"+\"\\n\"+\"3.Exit\")\n",
    "choice=\"\"\n",
    "while choice!=3:\n",
    "    choice=int(input(\"Enter your Choice:\"))\n",
    "    if choice==1:\n",
    "        n=int(input(\"Enter Task no:\"))\n",
    "        a=input(\"Enter Task Name:\")\n",
    "        menu[n]=a\n",
    "        print(\"Task Added\")\n",
    "    elif choice==2:\n",
    "        for item in menu:\n",
    "            print(item,\":\",menu[item])\n",
    "    elif choice==3:\n",
    "        print(\"Exit\")\n",
    "    \n",
    "else:\n",
    "    print(\"Invaid Choice\")"
   ]
  },
  {
   "cell_type": "code",
   "execution_count": null,
   "metadata": {},
   "outputs": [],
   "source": []
  },
  {
   "cell_type": "code",
   "execution_count": null,
   "metadata": {},
   "outputs": [],
   "source": []
  }
 ],
 "metadata": {
  "kernelspec": {
   "display_name": "Python 3",
   "language": "python",
   "name": "python3"
  },
  "language_info": {
   "codemirror_mode": {
    "name": "ipython",
    "version": 3
   },
   "file_extension": ".py",
   "mimetype": "text/x-python",
   "name": "python",
   "nbconvert_exporter": "python",
   "pygments_lexer": "ipython3",
   "version": "3.8.5"
  }
 },
 "nbformat": 4,
 "nbformat_minor": 4
}
