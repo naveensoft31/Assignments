{
 "cells": [
  {
   "cell_type": "code",
   "execution_count": 7,
   "metadata": {},
   "outputs": [],
   "source": [
    "def Discountcal(purchase_amount):\n",
    "    purchase_amount=int(input(\"Enter Amount\"))\n",
    "    discount=\"\"\n",
    "    total_bill=\"\"\n",
    "    if purchase_amount>100 and purchase_amount<=1000:    #Conditions for Discounts for purchasing amount\n",
    "        discount=0\n",
    "        total_bill=purchase_amount-purchase_amount*discount/100\n",
    "    elif purchase_amount>1001 and purchase_amount<=2000:\n",
    "        discount=10\n",
    "        total_bill=purchase_amount-purchase_amount*discount/100\n",
    "    elif purchase_amount>2001 and purchase_amount<=3000:\n",
    "        discount=20\n",
    "        total_bill=purchase_amount-purchase_amount*discount/100\n",
    "    elif purchase_amount>3001:\n",
    "        discount=25\n",
    "        total_bill=purchase_amount-purchase_amount*discount/100\n",
    "    print(\"Discount Calculator\"+\"\\n\"+\"=================\"+\"\\n\"+\"Purchase Amount:\"+str(purchase_amount)+\"\\n\"+\"Discount:\"+str(discount)+\"\\n\"+\"Total Bill:\"+str(total_bill))\n",
    "Discountcal(purchase_amount)"
   ]
  },
  {
   "cell_type": "code",
   "execution_count": null,
   "metadata": {},
   "outputs": [],
   "source": []
  },
  {
   "cell_type": "code",
   "execution_count": null,
   "metadata": {},
   "outputs": [],
   "source": []
  }
 ],
 "metadata": {
  "kernelspec": {
   "display_name": "Python 3",
   "language": "python",
   "name": "python3"
  },
  "language_info": {
   "codemirror_mode": {
    "name": "ipython",
    "version": 3
   },
   "file_extension": ".py",
   "mimetype": "text/x-python",
   "name": "python",
   "nbconvert_exporter": "python",
   "pygments_lexer": "ipython3",
   "version": "3.8.5"
  }
 },
 "nbformat": 4,
 "nbformat_minor": 4
}
